{
 "cells": [
  {
   "cell_type": "code",
   "execution_count": 1,
   "id": "87ed527f-e79b-4baf-8cea-1d0b0d94aee2",
   "metadata": {},
   "outputs": [],
   "source": [
    "import cards"
   ]
  },
  {
   "cell_type": "code",
   "execution_count": 2,
   "id": "2c7f0618-353b-4cd5-8d2a-244395720d70",
   "metadata": {},
   "outputs": [],
   "source": [
    "deck=cards.buildDeck()"
   ]
  },
  {
   "cell_type": "code",
   "execution_count": 4,
   "id": "5460ce1b-420e-4ea4-ae3d-22661eca43ce",
   "metadata": {},
   "outputs": [
    {
     "data": {
      "text/plain": [
       "52"
      ]
     },
     "execution_count": 4,
     "metadata": {},
     "output_type": "execute_result"
    }
   ],
   "source": [
    "len(deck)"
   ]
  },
  {
   "cell_type": "code",
   "execution_count": 5,
   "id": "576b8968-8cf3-4803-b6bf-990526effc67",
   "metadata": {},
   "outputs": [
    {
     "name": "stdout",
     "output_type": "stream",
     "text": [
      "Help on list object:\n",
      "\n",
      "class list(object)\n",
      " |  list(iterable=(), /)\n",
      " |\n",
      " |  Built-in mutable sequence.\n",
      " |\n",
      " |  If no argument is given, the constructor creates a new empty list.\n",
      " |  The argument must be an iterable if specified.\n",
      " |\n",
      " |  Methods defined here:\n",
      " |\n",
      " |  __add__(self, value, /)\n",
      " |      Return self+value.\n",
      " |\n",
      " |  __contains__(self, key, /)\n",
      " |      Return bool(key in self).\n",
      " |\n",
      " |  __delitem__(self, key, /)\n",
      " |      Delete self[key].\n",
      " |\n",
      " |  __eq__(self, value, /)\n",
      " |      Return self==value.\n",
      " |\n",
      " |  __ge__(self, value, /)\n",
      " |      Return self>=value.\n",
      " |\n",
      " |  __getattribute__(self, name, /)\n",
      " |      Return getattr(self, name).\n",
      " |\n",
      " |  __getitem__(self, index, /)\n",
      " |      Return self[index].\n",
      " |\n",
      " |  __gt__(self, value, /)\n",
      " |      Return self>value.\n",
      " |\n",
      " |  __iadd__(self, value, /)\n",
      " |      Implement self+=value.\n",
      " |\n",
      " |  __imul__(self, value, /)\n",
      " |      Implement self*=value.\n",
      " |\n",
      " |  __init__(self, /, *args, **kwargs)\n",
      " |      Initialize self.  See help(type(self)) for accurate signature.\n",
      " |\n",
      " |  __iter__(self, /)\n",
      " |      Implement iter(self).\n",
      " |\n",
      " |  __le__(self, value, /)\n",
      " |      Return self<=value.\n",
      " |\n",
      " |  __len__(self, /)\n",
      " |      Return len(self).\n",
      " |\n",
      " |  __lt__(self, value, /)\n",
      " |      Return self<value.\n",
      " |\n",
      " |  __mul__(self, value, /)\n",
      " |      Return self*value.\n",
      " |\n",
      " |  __ne__(self, value, /)\n",
      " |      Return self!=value.\n",
      " |\n",
      " |  __repr__(self, /)\n",
      " |      Return repr(self).\n",
      " |\n",
      " |  __reversed__(self, /)\n",
      " |      Return a reverse iterator over the list.\n",
      " |\n",
      " |  __rmul__(self, value, /)\n",
      " |      Return value*self.\n",
      " |\n",
      " |  __setitem__(self, key, value, /)\n",
      " |      Set self[key] to value.\n",
      " |\n",
      " |  __sizeof__(self, /)\n",
      " |      Return the size of the list in memory, in bytes.\n",
      " |\n",
      " |  append(self, object, /)\n",
      " |      Append object to the end of the list.\n",
      " |\n",
      " |  clear(self, /)\n",
      " |      Remove all items from list.\n",
      " |\n",
      " |  copy(self, /)\n",
      " |      Return a shallow copy of the list.\n",
      " |\n",
      " |  count(self, value, /)\n",
      " |      Return number of occurrences of value.\n",
      " |\n",
      " |  extend(self, iterable, /)\n",
      " |      Extend list by appending elements from the iterable.\n",
      " |\n",
      " |  index(self, value, start=0, stop=9223372036854775807, /)\n",
      " |      Return first index of value.\n",
      " |\n",
      " |      Raises ValueError if the value is not present.\n",
      " |\n",
      " |  insert(self, index, object, /)\n",
      " |      Insert object before index.\n",
      " |\n",
      " |  pop(self, index=-1, /)\n",
      " |      Remove and return item at index (default last).\n",
      " |\n",
      " |      Raises IndexError if list is empty or index is out of range.\n",
      " |\n",
      " |  remove(self, value, /)\n",
      " |      Remove first occurrence of value.\n",
      " |\n",
      " |      Raises ValueError if the value is not present.\n",
      " |\n",
      " |  reverse(self, /)\n",
      " |      Reverse *IN PLACE*.\n",
      " |\n",
      " |  sort(self, /, *, key=None, reverse=False)\n",
      " |      Sort the list in ascending order and return None.\n",
      " |\n",
      " |      The sort is in-place (i.e. the list itself is modified) and stable (i.e. the\n",
      " |      order of two equal elements is maintained).\n",
      " |\n",
      " |      If a key function is given, apply it once to each list item and sort them,\n",
      " |      ascending or descending, according to their function values.\n",
      " |\n",
      " |      The reverse flag can be set to sort in descending order.\n",
      " |\n",
      " |  ----------------------------------------------------------------------\n",
      " |  Class methods defined here:\n",
      " |\n",
      " |  __class_getitem__(...)\n",
      " |      See PEP 585\n",
      " |\n",
      " |  ----------------------------------------------------------------------\n",
      " |  Static methods defined here:\n",
      " |\n",
      " |  __new__(*args, **kwargs)\n",
      " |      Create and return a new object.  See help(type) for accurate signature.\n",
      " |\n",
      " |  ----------------------------------------------------------------------\n",
      " |  Data and other attributes defined here:\n",
      " |\n",
      " |  __hash__ = None\n",
      "\n"
     ]
    }
   ],
   "source": [
    "help(deck)"
   ]
  },
  {
   "cell_type": "code",
   "execution_count": 6,
   "id": "eab9fc74-9362-462b-93cb-b02087b26409",
   "metadata": {},
   "outputs": [],
   "source": [
    "computer=[]"
   ]
  },
  {
   "cell_type": "code",
   "execution_count": 7,
   "id": "c0ad687e-6105-4d95-ba62-86fa271d51e5",
   "metadata": {},
   "outputs": [],
   "source": [
    "player=[]"
   ]
  },
  {
   "cell_type": "code",
   "execution_count": 8,
   "id": "13a28e47-9713-497e-b9d0-241890390820",
   "metadata": {},
   "outputs": [],
   "source": [
    "for _ in range(7):\n",
    "    player.append(deck.pop())\n",
    "    computer.append(deck.pop())"
   ]
  },
  {
   "cell_type": "code",
   "execution_count": 9,
   "id": "9cb976ae-6886-46d5-a8cf-b69aa5aa82f6",
   "metadata": {},
   "outputs": [
    {
     "data": {
      "text/plain": [
       "['4 of Spades',\n",
       " '6 of Hearts',\n",
       " '3 of Diamonds',\n",
       " '10 of Diamonds',\n",
       " '10 of Hearts',\n",
       " '10 of Spades',\n",
       " '6 of Diamonds']"
      ]
     },
     "execution_count": 9,
     "metadata": {},
     "output_type": "execute_result"
    }
   ],
   "source": [
    "player"
   ]
  },
  {
   "cell_type": "code",
   "execution_count": 10,
   "id": "cc348c3d-1d73-4c0f-b9cf-ee3352a1d6ed",
   "metadata": {},
   "outputs": [
    {
     "data": {
      "text/plain": [
       "['Queen of Hearts',\n",
       " 'King of Diamonds',\n",
       " '4 of Hearts',\n",
       " 'Queen of Clubs',\n",
       " '4 of Diamonds',\n",
       " 'Ace of Hearts',\n",
       " '8 of Clubs']"
      ]
     },
     "execution_count": 10,
     "metadata": {},
     "output_type": "execute_result"
    }
   ],
   "source": [
    "computer"
   ]
  },
  {
   "cell_type": "code",
   "execution_count": 11,
   "id": "4c82e739-f4d3-47a2-960d-42ca9527992e",
   "metadata": {
    "scrolled": true
   },
   "outputs": [
    {
     "data": {
      "text/plain": [
       "['3 of Clubs',\n",
       " '9 of Diamonds',\n",
       " '2 of Diamonds',\n",
       " '2 of Clubs',\n",
       " '7 of Diamonds',\n",
       " '2 of Hearts',\n",
       " 'Jack of Spades',\n",
       " '3 of Spades',\n",
       " '8 of Diamonds',\n",
       " '7 of Spades',\n",
       " '5 of Clubs',\n",
       " 'Queen of Diamonds',\n",
       " '5 of Hearts',\n",
       " 'King of Spades',\n",
       " '6 of Spades',\n",
       " 'Jack of Hearts',\n",
       " '9 of Spades',\n",
       " 'King of Hearts',\n",
       " '5 of Diamonds',\n",
       " '7 of Clubs',\n",
       " 'Ace of Diamonds',\n",
       " '9 of Hearts',\n",
       " '6 of Clubs',\n",
       " '2 of Spades',\n",
       " '3 of Hearts',\n",
       " '4 of Clubs',\n",
       " 'Ace of Clubs',\n",
       " '10 of Clubs',\n",
       " '8 of Spades',\n",
       " 'Jack of Diamonds',\n",
       " '8 of Hearts',\n",
       " 'Jack of Clubs',\n",
       " 'Queen of Spades',\n",
       " 'King of Clubs',\n",
       " '5 of Spades',\n",
       " '9 of Clubs',\n",
       " 'Ace of Spades',\n",
       " '7 of Hearts']"
      ]
     },
     "execution_count": 11,
     "metadata": {},
     "output_type": "execute_result"
    }
   ],
   "source": [
    "deck"
   ]
  },
  {
   "cell_type": "code",
   "execution_count": 12,
   "id": "d5a8534f-42cb-4f9a-abe0-19c4f53e5497",
   "metadata": {},
   "outputs": [
    {
     "data": {
      "text/plain": [
       "38"
      ]
     },
     "execution_count": 12,
     "metadata": {},
     "output_type": "execute_result"
    }
   ],
   "source": [
    "len(deck)"
   ]
  },
  {
   "cell_type": "code",
   "execution_count": 124,
   "id": "c1482118-1dc9-4460-9d50-d34fda7410fd",
   "metadata": {},
   "outputs": [
    {
     "name": "stdout",
     "output_type": "stream",
     "text": [
      "Here are your current cards: \n",
      "\n",
      "['5 of Clubs', 'Ace of Spades', 'Queen of Spades', '2 of Diamonds', '4 of Hearts', '3 of Spades', '3 of Clubs']\n"
     ]
    }
   ],
   "source": [
    "import cards\n",
    "\n",
    "deck=cards.buildDeck()\n",
    "\n",
    "player = []\n",
    "computer = []\n",
    "\n",
    "for _ in range(7):\n",
    "    player.append(deck.pop())\n",
    "    computer.append(deck.pop())\n",
    "\n",
    "print(f\"Here are your current cards: \\n\\n{player}\")"
   ]
  },
  {
   "cell_type": "code",
   "execution_count": 125,
   "id": "4ed3c9c9-ec98-4685-9178-a6a3013ee2bb",
   "metadata": {},
   "outputs": [
    {
     "data": {
      "text/plain": [
       "['5 of Clubs',\n",
       " 'Ace of Spades',\n",
       " 'Queen of Spades',\n",
       " '2 of Diamonds',\n",
       " '4 of Hearts',\n",
       " '3 of Spades',\n",
       " '3 of Clubs']"
      ]
     },
     "execution_count": 125,
     "metadata": {},
     "output_type": "execute_result"
    }
   ],
   "source": [
    "player"
   ]
  },
  {
   "cell_type": "code",
   "execution_count": 126,
   "id": "96702361-4cf0-4104-8323-370dcd4e39f0",
   "metadata": {},
   "outputs": [],
   "source": [
    "player.sort()"
   ]
  },
  {
   "cell_type": "code",
   "execution_count": 129,
   "id": "c15a8863-1059-447f-8f74-a56104bc0e7f",
   "metadata": {},
   "outputs": [
    {
     "data": {
      "text/plain": [
       "['2 of Diamonds',\n",
       " '3 of Clubs',\n",
       " '3 of Spades',\n",
       " '4 of Hearts',\n",
       " '5 of Clubs',\n",
       " 'Ace of Spades',\n",
       " 'Queen of Spades']"
      ]
     },
     "execution_count": 129,
     "metadata": {},
     "output_type": "execute_result"
    }
   ],
   "source": [
    "player\n"
   ]
  },
  {
   "cell_type": "code",
   "execution_count": 127,
   "id": "b8711bcc-0eee-45b9-a1e6-7283bace2d69",
   "metadata": {},
   "outputs": [],
   "source": [
    "computer.sort()"
   ]
  },
  {
   "cell_type": "code",
   "execution_count": 128,
   "id": "68ceec5d-d7b2-4824-b92e-3d15aa938f10",
   "metadata": {},
   "outputs": [
    {
     "data": {
      "text/plain": [
       "['2 of Clubs',\n",
       " '2 of Hearts',\n",
       " '5 of Diamonds',\n",
       " '6 of Spades',\n",
       " '7 of Spades',\n",
       " 'Jack of Spades',\n",
       " 'Queen of Clubs']"
      ]
     },
     "execution_count": 128,
     "metadata": {},
     "output_type": "execute_result"
    }
   ],
   "source": [
    "computer"
   ]
  },
  {
   "cell_type": "code",
   "execution_count": 106,
   "id": "6586ed6f-a6b3-4cff-9126-fbbcd23cf55f",
   "metadata": {},
   "outputs": [],
   "source": [
    "card = \"Queen of Spades\""
   ]
  },
  {
   "cell_type": "code",
   "execution_count": 108,
   "id": "178d894b-1ee9-4561-b1b7-22fbba11665d",
   "metadata": {},
   "outputs": [
    {
     "data": {
      "text/plain": [
       "'Queen of Spades'"
      ]
     },
     "execution_count": 108,
     "metadata": {},
     "output_type": "execute_result"
    }
   ],
   "source": [
    "card"
   ]
  },
  {
   "cell_type": "code",
   "execution_count": 109,
   "id": "48d3c2ff-d7ba-4ca0-bda7-6f5fe2e9675d",
   "metadata": {},
   "outputs": [
    {
     "data": {
      "text/plain": [
       "'Queen'"
      ]
     },
     "execution_count": 109,
     "metadata": {},
     "output_type": "execute_result"
    }
   ],
   "source": [
    "card[:card.find(\" \")] #pull out queen"
   ]
  },
  {
   "cell_type": "raw",
   "id": "3e74d160-1e8d-4241-beb7-fa074cee0778",
   "metadata": {},
   "source": [
    "for card in player:\n",
    "    current = card[:card.find(\" \")]\n",
    "    _next= \n",
    "    print(current)"
   ]
  },
  {
   "cell_type": "code",
   "execution_count": 130,
   "id": "7e08168a-5adc-408a-8f8a-f556da70d264",
   "metadata": {},
   "outputs": [
    {
     "name": "stdout",
     "output_type": "stream",
     "text": [
      "2 of Diamonds 3 of Clubs\n",
      "3 of Clubs 3 of Spades\n",
      "5 of Clubs Ace of Spades\n",
      "Ace of Spades Queen of Spades\n"
     ]
    },
    {
     "ename": "IndexError",
     "evalue": "list index out of range",
     "output_type": "error",
     "traceback": [
      "\u001b[1;31m---------------------------------------------------------------------------\u001b[0m",
      "\u001b[1;31mIndexError\u001b[0m                                Traceback (most recent call last)",
      "Cell \u001b[1;32mIn[130], line 4\u001b[0m\n\u001b[0;32m      2\u001b[0m currCard\u001b[38;5;241m=\u001b[39mplayer[i]\n\u001b[0;32m      3\u001b[0m current\u001b[38;5;241m=\u001b[39mcurrCard[:currCard\u001b[38;5;241m.\u001b[39mfind(\u001b[38;5;124m\"\u001b[39m\u001b[38;5;124m \u001b[39m\u001b[38;5;124m\"\u001b[39m)]\n\u001b[1;32m----> 4\u001b[0m nextCard\u001b[38;5;241m=\u001b[39m\u001b[43mplayer\u001b[49m\u001b[43m[\u001b[49m\u001b[43mi\u001b[49m\u001b[38;5;241;43m+\u001b[39;49m\u001b[38;5;241;43m1\u001b[39;49m\u001b[43m]\u001b[49m\n\u001b[0;32m      5\u001b[0m _next \u001b[38;5;241m=\u001b[39m nextCard[:nextCard\u001b[38;5;241m.\u001b[39mfind(\u001b[38;5;124m\"\u001b[39m\u001b[38;5;124m \u001b[39m\u001b[38;5;124m\"\u001b[39m)]\n\u001b[0;32m      7\u001b[0m \u001b[38;5;28;01mif\u001b[39;00m current\u001b[38;5;241m==\u001b[39m_next:\n",
      "\u001b[1;31mIndexError\u001b[0m: list index out of range"
     ]
    }
   ],
   "source": [
    "for i in range(len(player)-1):\n",
    "    currCard=player[i]\n",
    "    current=currCard[:currCard.find(\" \")]\n",
    "    nextCard=player[i+1]\n",
    "    _next = nextCard[:nextCard.find(\" \")]\n",
    "\n",
    "    if current==_next:\n",
    "        player.pop(i)\n",
    "        player.pop(i+1)\n",
    "    \n",
    "    print(currCard, nextCard)    "
   ]
  },
  {
   "cell_type": "code",
   "execution_count": 121,
   "id": "bb2727b3-18e7-48cf-b4d6-f0f2c051f14e",
   "metadata": {},
   "outputs": [
    {
     "data": {
      "text/plain": [
       "['2 of Diamonds',\n",
       " '3 of Diamonds',\n",
       " '4 of Clubs',\n",
       " '6 of Clubs',\n",
       " '7 of Spades',\n",
       " 'Ace of Clubs',\n",
       " 'King of Diamonds']"
      ]
     },
     "execution_count": 121,
     "metadata": {},
     "output_type": "execute_result"
    }
   ],
   "source": [
    "player"
   ]
  },
  {
   "cell_type": "code",
   "execution_count": null,
   "id": "26c0da69-f6eb-4399-a964-0ea57a0bceef",
   "metadata": {},
   "outputs": [],
   "source": []
  }
 ],
 "metadata": {
  "kernelspec": {
   "display_name": "Python 3 (ipykernel)",
   "language": "python",
   "name": "python3"
  },
  "language_info": {
   "codemirror_mode": {
    "name": "ipython",
    "version": 3
   },
   "file_extension": ".py",
   "mimetype": "text/x-python",
   "name": "python",
   "nbconvert_exporter": "python",
   "pygments_lexer": "ipython3",
   "version": "3.12.6"
  }
 },
 "nbformat": 4,
 "nbformat_minor": 5
}
